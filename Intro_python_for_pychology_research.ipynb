{
  "nbformat": 4,
  "nbformat_minor": 0,
  "metadata": {
    "colab": {
      "name": "Intro python for pychology research",
      "provenance": [],
      "authorship_tag": "ABX9TyO1YmoBMCfBnhmXp+zo1qH5",
      "include_colab_link": true
    },
    "kernelspec": {
      "name": "python3",
      "display_name": "Python 3"
    },
    "language_info": {
      "name": "python"
    }
  },
  "cells": [
    {
      "cell_type": "markdown",
      "metadata": {
        "id": "view-in-github",
        "colab_type": "text"
      },
      "source": [
        "<a href=\"https://colab.research.google.com/github/aburchell/pollack-notebooks/blob/main/Intro_python_for_pychology_research.ipynb\" target=\"_parent\"><img src=\"https://colab.research.google.com/assets/colab-badge.svg\" alt=\"Open In Colab\"/></a>"
      ]
    },
    {
      "cell_type": "markdown",
      "metadata": {
        "id": "RSSugzF7F7Lo"
      },
      "source": [
        "# Libraries & my generally philosophy about Python"
      ]
    },
    {
      "cell_type": "markdown",
      "metadata": {
        "id": "z6-p6gCREJ6Q"
      },
      "source": [
        "You can import packages (libraries? modules? forget what they're officially called in Python)"
      ]
    },
    {
      "cell_type": "code",
      "metadata": {
        "colab": {
          "base_uri": "https://localhost:8080/",
          "height": 38
        },
        "id": "DQM-nzklEJmm",
        "outputId": "d0945083-f291-4e73-86d8-9b9347234e63"
      },
      "source": [
        "# you will have to reference the library, eg 'math' when you use a function\n",
        "import math\n",
        "# import specific functions, eg 'randint', then you can just call it without referencing the library\n",
        "from random import randint\n",
        "# import a library but with a shortened nickname (you can chose, but there are usual shorthands\n",
        "# used for popular libraries)\n",
        "import numpy as np # https://numpy.org/doc/stable/reference/index.html\n",
        "import pandas as pd # https://pandas.pydata.org/docs/"
      ],
      "execution_count": null,
      "outputs": [
        {
          "output_type": "execute_result",
          "data": {
            "application/vnd.google.colaboratory.intrinsic+json": {
              "type": "string"
            },
            "text/plain": [
              "'\\nasdkfljasdkl\\nasdfklasd\\n'"
            ]
          },
          "metadata": {
            "tags": []
          },
          "execution_count": 5
        }
      ]
    },
    {
      "cell_type": "markdown",
      "metadata": {
        "id": "OppcWeOiFMUO"
      },
      "source": [
        "Numpy is used for basically everything scientific/numerical; lets you do stuff with arrays/matricies, and it runs really fast.\n",
        "\n",
        "Whenever possible, we want to do things with numpy (np) arrays/functions instead of `for` loops. Python libraries are generally written in `C` (ie very fast), while writing your own Python is generally slow (for big tasks).\n",
        "\n",
        "Think of Python like glue -- use it to connect tools, not recreate them."
      ]
    },
    {
      "cell_type": "markdown",
      "metadata": {
        "id": "mdYFa_qgGAT_"
      },
      "source": [
        "# Basic data structures we care about"
      ]
    },
    {
      "cell_type": "markdown",
      "metadata": {
        "id": "spSCP-UXGEkq"
      },
      "source": [
        "Lists are ordered collections of things.\n",
        "\n",
        "- heterogenous -> they can have different types of things, eg strings and integers\n",
        "- ordered -> the order you put things in a list is the order they stay in"
      ]
    },
    {
      "cell_type": "code",
      "metadata": {
        "colab": {
          "base_uri": "https://localhost:8080/",
          "height": 236
        },
        "id": "o9IVZF-bGADE",
        "outputId": "5b6850e8-f259-4d4e-87bf-4cd9c339f951"
      },
      "source": [
        "# make an empty list and add something to (the end of) it\n",
        "my_empty_list = []\n",
        "my_empty_list.append('a')\n",
        "my_empty_list.append('c')\n",
        "my_empty_list.append(['f','g'])\n",
        "my_empty_list.extend(['d', 'e'])\n",
        "\n",
        "print(my_empty_list)"
      ],
      "execution_count": null,
      "outputs": [
        {
          "output_type": "error",
          "ename": "TypeError",
          "evalue": "ignored",
          "traceback": [
            "\u001b[0;31m---------------------------------------------------------------------------\u001b[0m",
            "\u001b[0;31mTypeError\u001b[0m                                 Traceback (most recent call last)",
            "\u001b[0;32m<ipython-input-12-a99e1f89568e>\u001b[0m in \u001b[0;36m<module>\u001b[0;34m()\u001b[0m\n\u001b[1;32m      5\u001b[0m \u001b[0mmy_empty_list\u001b[0m\u001b[0;34m.\u001b[0m\u001b[0mappend\u001b[0m\u001b[0;34m(\u001b[0m\u001b[0;34m[\u001b[0m\u001b[0;34m'f'\u001b[0m\u001b[0;34m,\u001b[0m\u001b[0;34m'g'\u001b[0m\u001b[0;34m]\u001b[0m\u001b[0;34m)\u001b[0m\u001b[0;34m\u001b[0m\u001b[0;34m\u001b[0m\u001b[0m\n\u001b[1;32m      6\u001b[0m \u001b[0;31m# my_empty_list.extend(['d', 'e'])\u001b[0m\u001b[0;34m\u001b[0m\u001b[0;34m\u001b[0m\u001b[0;34m\u001b[0m\u001b[0m\n\u001b[0;32m----> 7\u001b[0;31m \u001b[0mmy_empty_list\u001b[0m\u001b[0;34m.\u001b[0m\u001b[0mappend\u001b[0m\u001b[0;34m(\u001b[0m\u001b[0;34m*\u001b[0m\u001b[0;34m[\u001b[0m\u001b[0;34m'd'\u001b[0m\u001b[0;34m,\u001b[0m \u001b[0;34m'e'\u001b[0m\u001b[0;34m]\u001b[0m\u001b[0;34m)\u001b[0m\u001b[0;34m\u001b[0m\u001b[0;34m\u001b[0m\u001b[0m\n\u001b[0m\u001b[1;32m      8\u001b[0m \u001b[0;34m\u001b[0m\u001b[0m\n\u001b[1;32m      9\u001b[0m \u001b[0mprint\u001b[0m\u001b[0;34m(\u001b[0m\u001b[0mmy_empty_list\u001b[0m\u001b[0;34m)\u001b[0m\u001b[0;34m\u001b[0m\u001b[0;34m\u001b[0m\u001b[0m\n",
            "\u001b[0;31mTypeError\u001b[0m: append() takes exactly one argument (2 given)"
          ]
        }
      ]
    },
    {
      "cell_type": "code",
      "metadata": {
        "colab": {
          "base_uri": "https://localhost:8080/"
        },
        "id": "TGmj7d1wD-0R",
        "outputId": "fc12280d-4240-4981-da12-33fe9af9520c"
      },
      "source": [
        "this_is_a_list = ['b', 15, [1,2,3]]\n",
        "this_is_a_list"
      ],
      "execution_count": null,
      "outputs": [
        {
          "output_type": "execute_result",
          "data": {
            "text/plain": [
              "['b', 15, [1, 2, 3]]"
            ]
          },
          "metadata": {
            "tags": []
          },
          "execution_count": 7
        }
      ]
    },
    {
      "cell_type": "code",
      "metadata": {
        "colab": {
          "base_uri": "https://localhost:8080/"
        },
        "id": "9tY_A41BJFwW",
        "outputId": "b24284c0-9a1e-4b7a-cac3-c15f1d441f30"
      },
      "source": [
        "[str(my_name_for_this_elem) + '_asdfdas' for my_name_for_this_elem in this_is_a_list \n",
        " if my_name_for_this_elem == 'b']"
      ],
      "execution_count": null,
      "outputs": [
        {
          "output_type": "execute_result",
          "data": {
            "text/plain": [
              "['b_asdfdas']"
            ]
          },
          "metadata": {
            "tags": []
          },
          "execution_count": 16
        }
      ]
    },
    {
      "cell_type": "code",
      "metadata": {
        "colab": {
          "base_uri": "https://localhost:8080/"
        },
        "id": "a8qHIRKJKPHU",
        "outputId": "3c9f22ad-843e-4100-9de4-c07ac6fb1aad"
      },
      "source": [
        "l = np.array(range(10))\n",
        "list(map(lambda x: x+10, l))\n",
        "\n",
        "sum(l)"
      ],
      "execution_count": null,
      "outputs": [
        {
          "output_type": "execute_result",
          "data": {
            "text/plain": [
              "45"
            ]
          },
          "metadata": {
            "tags": []
          },
          "execution_count": 27
        }
      ]
    },
    {
      "cell_type": "code",
      "metadata": {
        "id": "OOdI585xLYkY"
      },
      "source": [
        "def my_func(param1):\n",
        "  result = param1 + 10\n",
        "  return result\n",
        "\n",
        "# equivalent to\n",
        "\n",
        "lambda x: x+10"
      ],
      "execution_count": null,
      "outputs": []
    },
    {
      "cell_type": "code",
      "metadata": {
        "colab": {
          "base_uri": "https://localhost:8080/"
        },
        "id": "EXTM4F6TNZP8",
        "outputId": "7765b4df-4336-4e5d-8cf5-19b67a34687f"
      },
      "source": [
        "l[-3:]"
      ],
      "execution_count": null,
      "outputs": [
        {
          "output_type": "execute_result",
          "data": {
            "text/plain": [
              "array([7, 8, 9])"
            ]
          },
          "metadata": {
            "tags": []
          },
          "execution_count": 36
        }
      ]
    }
  ]
}